{
 "cells": [
  {
   "cell_type": "code",
   "execution_count": 1,
   "metadata": {},
   "outputs": [],
   "source": [
    "import pandas as pd\n",
    "import matplotlib.pyplot as plt\n",
    "import numpy as np"
   ]
  },
  {
   "cell_type": "code",
   "execution_count": 6,
   "metadata": {},
   "outputs": [],
   "source": [
    "bouldering = pd.read_csv('data/boulder-route-finder.csv')\n",
    "sport = pd.read_csv('data/sport-route-finder.csv')\n",
    "toprope = pd.read_csv('data/toprope-route-finder.csv')\n",
    "trad = pd.read_csv('data/trad-route-finder.csv')"
   ]
  },
  {
   "cell_type": "code",
   "execution_count": 8,
   "metadata": {},
   "outputs": [
    {
     "data": {
      "text/html": [
       "<div>\n",
       "<style scoped>\n",
       "    .dataframe tbody tr th:only-of-type {\n",
       "        vertical-align: middle;\n",
       "    }\n",
       "\n",
       "    .dataframe tbody tr th {\n",
       "        vertical-align: top;\n",
       "    }\n",
       "\n",
       "    .dataframe thead th {\n",
       "        text-align: right;\n",
       "    }\n",
       "</style>\n",
       "<table border=\"1\" class=\"dataframe\">\n",
       "  <thead>\n",
       "    <tr style=\"text-align: right;\">\n",
       "      <th></th>\n",
       "      <th>Route</th>\n",
       "      <th>Location</th>\n",
       "      <th>URL</th>\n",
       "      <th>Avg Stars</th>\n",
       "      <th>Your Stars</th>\n",
       "      <th>Route Type</th>\n",
       "      <th>Rating</th>\n",
       "      <th>Pitches</th>\n",
       "      <th>Length</th>\n",
       "      <th>Area Latitude</th>\n",
       "      <th>Area Longitude</th>\n",
       "    </tr>\n",
       "  </thead>\n",
       "  <tbody>\n",
       "    <tr>\n",
       "      <th>0</th>\n",
       "      <td>Slanty Crack</td>\n",
       "      <td>Corner Area &gt; Loch Lomond &gt; Idaho Springs &gt; Co...</td>\n",
       "      <td>https://www.mountainproject.com/route/10605105...</td>\n",
       "      <td>1.0</td>\n",
       "      <td>-1</td>\n",
       "      <td>Boulder, Alpine</td>\n",
       "      <td>V-easy</td>\n",
       "      <td>1</td>\n",
       "      <td>35.0</td>\n",
       "      <td>39.8328</td>\n",
       "      <td>-105.6771</td>\n",
       "    </tr>\n",
       "    <tr>\n",
       "      <th>1</th>\n",
       "      <td>2 Steps</td>\n",
       "      <td>Corner Area &gt; Loch Lomond &gt; Idaho Springs &gt; Co...</td>\n",
       "      <td>https://www.mountainproject.com/route/10605104...</td>\n",
       "      <td>1.0</td>\n",
       "      <td>-1</td>\n",
       "      <td>Boulder, Alpine</td>\n",
       "      <td>V0-</td>\n",
       "      <td>1</td>\n",
       "      <td>35.0</td>\n",
       "      <td>39.8328</td>\n",
       "      <td>-105.6771</td>\n",
       "    </tr>\n",
       "    <tr>\n",
       "      <th>2</th>\n",
       "      <td>Highlords Traverse</td>\n",
       "      <td>Hump Area &gt; Loch Lomond &gt; Idaho Springs &gt; Colo...</td>\n",
       "      <td>https://www.mountainproject.com/route/10605107...</td>\n",
       "      <td>3.0</td>\n",
       "      <td>-1</td>\n",
       "      <td>Boulder, Alpine</td>\n",
       "      <td>V1</td>\n",
       "      <td>1</td>\n",
       "      <td>NaN</td>\n",
       "      <td>39.8328</td>\n",
       "      <td>-105.6771</td>\n",
       "    </tr>\n",
       "    <tr>\n",
       "      <th>3</th>\n",
       "      <td>Marmot Traverse</td>\n",
       "      <td>Hump Area &gt; Loch Lomond &gt; Idaho Springs &gt; Colo...</td>\n",
       "      <td>https://www.mountainproject.com/route/10605108...</td>\n",
       "      <td>2.0</td>\n",
       "      <td>-1</td>\n",
       "      <td>Boulder, Alpine</td>\n",
       "      <td>V1</td>\n",
       "      <td>1</td>\n",
       "      <td>NaN</td>\n",
       "      <td>39.8328</td>\n",
       "      <td>-105.6771</td>\n",
       "    </tr>\n",
       "    <tr>\n",
       "      <th>4</th>\n",
       "      <td>Over the Hump</td>\n",
       "      <td>Hump Area &gt; Loch Lomond &gt; Idaho Springs &gt; Colo...</td>\n",
       "      <td>https://www.mountainproject.com/route/10605107...</td>\n",
       "      <td>2.0</td>\n",
       "      <td>-1</td>\n",
       "      <td>Boulder, Alpine</td>\n",
       "      <td>V1+</td>\n",
       "      <td>1</td>\n",
       "      <td>15.0</td>\n",
       "      <td>39.8328</td>\n",
       "      <td>-105.6771</td>\n",
       "    </tr>\n",
       "  </tbody>\n",
       "</table>\n",
       "</div>"
      ],
      "text/plain": [
       "                Route                                           Location  \\\n",
       "0        Slanty Crack  Corner Area > Loch Lomond > Idaho Springs > Co...   \n",
       "1             2 Steps  Corner Area > Loch Lomond > Idaho Springs > Co...   \n",
       "2  Highlords Traverse  Hump Area > Loch Lomond > Idaho Springs > Colo...   \n",
       "3     Marmot Traverse  Hump Area > Loch Lomond > Idaho Springs > Colo...   \n",
       "4       Over the Hump  Hump Area > Loch Lomond > Idaho Springs > Colo...   \n",
       "\n",
       "                                                 URL  Avg Stars  Your Stars  \\\n",
       "0  https://www.mountainproject.com/route/10605105...        1.0          -1   \n",
       "1  https://www.mountainproject.com/route/10605104...        1.0          -1   \n",
       "2  https://www.mountainproject.com/route/10605107...        3.0          -1   \n",
       "3  https://www.mountainproject.com/route/10605108...        2.0          -1   \n",
       "4  https://www.mountainproject.com/route/10605107...        2.0          -1   \n",
       "\n",
       "        Route Type  Rating  Pitches  Length  Area Latitude  Area Longitude  \n",
       "0  Boulder, Alpine  V-easy        1    35.0        39.8328       -105.6771  \n",
       "1  Boulder, Alpine     V0-        1    35.0        39.8328       -105.6771  \n",
       "2  Boulder, Alpine      V1        1     NaN        39.8328       -105.6771  \n",
       "3  Boulder, Alpine      V1        1     NaN        39.8328       -105.6771  \n",
       "4  Boulder, Alpine     V1+        1    15.0        39.8328       -105.6771  "
      ]
     },
     "execution_count": 8,
     "metadata": {},
     "output_type": "execute_result"
    }
   ],
   "source": [
    "bouldering.head()"
   ]
  },
  {
   "cell_type": "code",
   "execution_count": 15,
   "metadata": {},
   "outputs": [],
   "source": [
    "b_location_lists = []\n",
    "b_state = []\n",
    "for route in range(len(bouldering['Location'])):\n",
    "    loc = bouldering['Location'][route].split(' > ')\n",
    "    b_state.append(loc[-1])\n",
    "    b_location_lists.append(loc)\n",
    "\n",
    "bouldering['Location_Lists'] = b_location_lists\n",
    "bouldering['State'] = b_state"
   ]
  },
  {
   "cell_type": "code",
   "execution_count": 12,
   "metadata": {},
   "outputs": [],
   "source": []
  },
  {
   "cell_type": "code",
   "execution_count": 35,
   "metadata": {},
   "outputs": [],
   "source": [
    "location_class = bouldering.drop(['Location', 'URL', 'Your Stars', 'Route Type', 'Area Latitude', 'Area Longitude'], axis=1)"
   ]
  },
  {
   "cell_type": "code",
   "execution_count": 39,
   "metadata": {},
   "outputs": [
    {
     "data": {
      "text/html": [
       "<div>\n",
       "<style scoped>\n",
       "    .dataframe tbody tr th:only-of-type {\n",
       "        vertical-align: middle;\n",
       "    }\n",
       "\n",
       "    .dataframe tbody tr th {\n",
       "        vertical-align: top;\n",
       "    }\n",
       "\n",
       "    .dataframe thead th {\n",
       "        text-align: right;\n",
       "    }\n",
       "</style>\n",
       "<table border=\"1\" class=\"dataframe\">\n",
       "  <thead>\n",
       "    <tr style=\"text-align: right;\">\n",
       "      <th></th>\n",
       "      <th>Route</th>\n",
       "      <th>Avg Stars</th>\n",
       "      <th>Rating</th>\n",
       "      <th>Pitches</th>\n",
       "      <th>Length</th>\n",
       "      <th>Location_Lists</th>\n",
       "      <th>State</th>\n",
       "    </tr>\n",
       "  </thead>\n",
       "  <tbody>\n",
       "    <tr>\n",
       "      <td>0</td>\n",
       "      <td>White Rastafarian</td>\n",
       "      <td>3.9</td>\n",
       "      <td>V2 R</td>\n",
       "      <td>1</td>\n",
       "      <td>20.0</td>\n",
       "      <td>[White Rastafarian Boulder, Outback Bouldering...</td>\n",
       "      <td>California</td>\n",
       "    </tr>\n",
       "    <tr>\n",
       "      <td>1</td>\n",
       "      <td>High Plains Drifter</td>\n",
       "      <td>3.9</td>\n",
       "      <td>V7</td>\n",
       "      <td>1</td>\n",
       "      <td>35.0</td>\n",
       "      <td>[Drifter/Smoking Boulder, Buttermilks Main, Bu...</td>\n",
       "      <td>California</td>\n",
       "    </tr>\n",
       "    <tr>\n",
       "      <td>2</td>\n",
       "      <td>Bachar Cracker</td>\n",
       "      <td>3.9</td>\n",
       "      <td>V4</td>\n",
       "      <td>1</td>\n",
       "      <td>NaN</td>\n",
       "      <td>[Bachar Cracker Boulder, Camp 4 Boulders, * Yo...</td>\n",
       "      <td>California</td>\n",
       "    </tr>\n",
       "    <tr>\n",
       "      <td>3</td>\n",
       "      <td>Golden Shower</td>\n",
       "      <td>4.0</td>\n",
       "      <td>V5</td>\n",
       "      <td>1</td>\n",
       "      <td>15.0</td>\n",
       "      <td>[Asphalt Boulders, Rocktown, Georgia]</td>\n",
       "      <td>Georgia</td>\n",
       "    </tr>\n",
       "    <tr>\n",
       "      <td>4</td>\n",
       "      <td>Seven Spanish Angels (aka The Ruckus)</td>\n",
       "      <td>3.9</td>\n",
       "      <td>V6</td>\n",
       "      <td>1</td>\n",
       "      <td>14.0</td>\n",
       "      <td>[Get Carter Boulder, Buttermilk Country, Bisho...</td>\n",
       "      <td>California</td>\n",
       "    </tr>\n",
       "  </tbody>\n",
       "</table>\n",
       "</div>"
      ],
      "text/plain": [
       "                                   Route  Avg Stars Rating  Pitches  Length  \\\n",
       "0                      White Rastafarian        3.9   V2 R        1    20.0   \n",
       "1                    High Plains Drifter        3.9     V7        1    35.0   \n",
       "2                         Bachar Cracker        3.9     V4        1     NaN   \n",
       "3                          Golden Shower        4.0     V5        1    15.0   \n",
       "4  Seven Spanish Angels (aka The Ruckus)        3.9     V6        1    14.0   \n",
       "\n",
       "                                      Location_Lists       State  \n",
       "0  [White Rastafarian Boulder, Outback Bouldering...  California  \n",
       "1  [Drifter/Smoking Boulder, Buttermilks Main, Bu...  California  \n",
       "2  [Bachar Cracker Boulder, Camp 4 Boulders, * Yo...  California  \n",
       "3              [Asphalt Boulders, Rocktown, Georgia]     Georgia  \n",
       "4  [Get Carter Boulder, Buttermilk Country, Bisho...  California  "
      ]
     },
     "execution_count": 39,
     "metadata": {},
     "output_type": "execute_result"
    }
   ],
   "source": [
    "location_class.head()"
   ]
  },
  {
   "cell_type": "code",
   "execution_count": 82,
   "metadata": {},
   "outputs": [],
   "source": [
    "num_routes = []\n",
    "avg_length = []\n",
    "avg_stars = []\n",
    "\n",
    "for state in bouldering['State'].unique():\n",
    "    num_routes.append(len(bouldering[bouldering['State'] == state]))\n",
    "    avg_length.append(np.mean(bouldering[bouldering['State'] == state]['Length']))\n",
    "    avg_stars.append(np.mean(bouldering[bouldering['State'] == state]['Avg Stars']))"
   ]
  },
  {
   "cell_type": "code",
   "execution_count": 67,
   "metadata": {},
   "outputs": [],
   "source": [
    "summary_state_data = pd.DataFrame({'num_routes': num_routes, 'avg_length': avg_length, 'avg_stars': avg_stars}, index=bouldering['State'].unique())"
   ]
  },
  {
   "cell_type": "code",
   "execution_count": 68,
   "metadata": {},
   "outputs": [
    {
     "data": {
      "text/html": [
       "<div>\n",
       "<style scoped>\n",
       "    .dataframe tbody tr th:only-of-type {\n",
       "        vertical-align: middle;\n",
       "    }\n",
       "\n",
       "    .dataframe tbody tr th {\n",
       "        vertical-align: top;\n",
       "    }\n",
       "\n",
       "    .dataframe thead th {\n",
       "        text-align: right;\n",
       "    }\n",
       "</style>\n",
       "<table border=\"1\" class=\"dataframe\">\n",
       "  <thead>\n",
       "    <tr style=\"text-align: right;\">\n",
       "      <th></th>\n",
       "      <th>num_routes</th>\n",
       "      <th>avg_length</th>\n",
       "      <th>avg_stars</th>\n",
       "    </tr>\n",
       "  </thead>\n",
       "  <tbody>\n",
       "    <tr>\n",
       "      <td>California</td>\n",
       "      <td>273</td>\n",
       "      <td>16.636364</td>\n",
       "      <td>3.195604</td>\n",
       "    </tr>\n",
       "    <tr>\n",
       "      <td>Georgia</td>\n",
       "      <td>32</td>\n",
       "      <td>13.277778</td>\n",
       "      <td>3.362500</td>\n",
       "    </tr>\n",
       "    <tr>\n",
       "      <td>Texas</td>\n",
       "      <td>38</td>\n",
       "      <td>18.947368</td>\n",
       "      <td>3.400000</td>\n",
       "    </tr>\n",
       "    <tr>\n",
       "      <td>Colorado</td>\n",
       "      <td>126</td>\n",
       "      <td>15.190476</td>\n",
       "      <td>3.146032</td>\n",
       "    </tr>\n",
       "    <tr>\n",
       "      <td>Wisconsin</td>\n",
       "      <td>44</td>\n",
       "      <td>13.588235</td>\n",
       "      <td>3.325000</td>\n",
       "    </tr>\n",
       "  </tbody>\n",
       "</table>\n",
       "</div>"
      ],
      "text/plain": [
       "            num_routes  avg_length  avg_stars\n",
       "California         273   16.636364   3.195604\n",
       "Georgia             32   13.277778   3.362500\n",
       "Texas               38   18.947368   3.400000\n",
       "Colorado           126   15.190476   3.146032\n",
       "Wisconsin           44   13.588235   3.325000"
      ]
     },
     "execution_count": 68,
     "metadata": {},
     "output_type": "execute_result"
    }
   ],
   "source": [
    "summary_state_data.head()"
   ]
  },
  {
   "cell_type": "code",
   "execution_count": 77,
   "metadata": {},
   "outputs": [
    {
     "data": {
      "image/png": "[encoded data removed]",
      "text/plain": [
       "<Figure size 432x288 with 1 Axes>"
      ]
     },
     "metadata": {
      "needs_background": "light"
     },
     "output_type": "display_data"
    }
   ],
   "source": [
    "# Number of Climbing Routes Per State\n",
    "\n",
    "plt.bar(summary_state_data.index, summary_state_data['num_routes'])\n",
    "plt.title('Number of Routes per State')\n",
    "plt.xticks(rotation='90')\n",
    "plt.ylabel('Number of Routes');"
   ]
  },
  {
   "cell_type": "code",
   "execution_count": 79,
   "metadata": {},
   "outputs": [
    {
     "data": {
      "image/png": "[encoded data removed]",
      "text/plain": [
       "<Figure size 432x288 with 1 Axes>"
      ]
     },
     "metadata": {
      "needs_background": "light"
     },
     "output_type": "display_data"
    }
   ],
   "source": [
    "# Avg Length of Route Per State\n",
    "\n",
    "plt.bar(summary_state_data.index, summary_state_data['avg_length'])\n",
    "plt.title('Avg Length of Routes per State')\n",
    "plt.xticks(rotation='90')\n",
    "plt.ylabel('Avg Length of Routes (Meters??)');"
   ]
  },
  {
   "cell_type": "code",
   "execution_count": 81,
   "metadata": {},
   "outputs": [
    {
     "data": {
      "image/png": "[encoded data removed]",
      "text/plain": [
       "<Figure size 432x288 with 1 Axes>"
      ]
     },
     "metadata": {
      "needs_background": "light"
     },
     "output_type": "display_data"
    }
   ],
   "source": [
    "# Avg Rating of Route Per State\n",
    "\n",
    "plt.bar(summary_state_data.index, summary_state_data['avg_stars'])\n",
    "plt.title('Avg Rating of Routes per State')\n",
    "plt.xticks(rotation='90')\n",
    "plt.ylabel('Avg Rating of Routes (Stars)');"
   ]
  },
  {
   "cell_type": "code",
   "execution_count": null,
   "metadata": {},
   "outputs": [],
   "source": []
  }
 ],
 "metadata": {
  "kernelspec": {
   "display_name": "Python 3",
   "language": "python",
   "name": "python3"
  },
  "language_info": {
   "codemirror_mode": {
    "name": "ipython",
    "version": 3
   },
   "file_extension": ".py",
   "mimetype": "text/x-python",
   "name": "python",
   "nbconvert_exporter": "python",
   "pygments_lexer": "ipython3",
   "version": "3.7.3"
  }
 },
 "nbformat": 4,
 "nbformat_minor": 2
}
